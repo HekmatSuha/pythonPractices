{
 "cells": [
  {
   "cell_type": "code",
   "execution_count": 1,
   "metadata": {},
   "outputs": [
    {
     "name": "stdout",
     "output_type": "stream",
     "text": [
      "Perimeter of the square: 8.0\n"
     ]
    }
   ],
   "source": [
    "#Task No 1\n",
    "\n",
    "a = float(input(\"Enter the side length of the square: \"))\n",
    "\n",
    "perimeter = 4 * a\n",
    "print(\"Perimeter of the square:\", perimeter)"
   ]
  },
  {
   "cell_type": "code",
   "execution_count": 2,
   "metadata": {},
   "outputs": [
    {
     "name": "stdout",
     "output_type": "stream",
     "text": [
      "Area of the rectangle: 6.0\n",
      "Perimeter of the rectangle: 10.0\n"
     ]
    }
   ],
   "source": [
    "#Task no 2\n",
    "a = float(input(\"Enter the length of the rectangle: \"))\n",
    "b = float(input(\"Enter the width of the rectangle: \"))\n",
    "\n",
    "area = a * b\n",
    "perimeter = 2 * (a + b)\n",
    "\n",
    "print(\"Area of the rectangle:\", area)\n",
    "print(\"Perimeter of the rectangle:\", perimeter)"
   ]
  },
  {
   "cell_type": "code",
   "execution_count": 3,
   "metadata": {},
   "outputs": [
    {
     "name": "stdout",
     "output_type": "stream",
     "text": [
      "Length of the circle: 12.56\n"
     ]
    }
   ],
   "source": [
    "#Task no 3\n",
    "d = float(input(\"Enter the diameter of the circle: \"))\n",
    "L = 3.14 * d\n",
    "\n",
    "print(\"Length of the circle:\", L)"
   ]
  },
  {
   "cell_type": "code",
   "execution_count": 4,
   "metadata": {},
   "outputs": [
    {
     "name": "stdout",
     "output_type": "stream",
     "text": [
      "Volume of the cube: 8.0\n",
      "Surface area of the cube: 24.0\n"
     ]
    }
   ],
   "source": [
    "#Task no 4\n",
    "a = float(input(\"Enter the edge length of the cube: \"))\n",
    "\n",
    "volume = a ** 3\n",
    "surface_area = 6 * a ** 2\n",
    "\n",
    "print(\"Volume of the cube:\", volume)\n",
    "print(\"Surface area of the cube:\", surface_area)"
   ]
  },
  {
   "cell_type": "code",
   "execution_count": 5,
   "metadata": {},
   "outputs": [
    {
     "name": "stdout",
     "output_type": "stream",
     "text": [
      "Volume of the rectangular parallelepiped: 60.0\n",
      "Surface area of the rectangular parallelepiped: 94.0\n"
     ]
    }
   ],
   "source": [
    "#Task no 5\n",
    "a = float(input(\"Enter the length of the rectangular parallelepiped: \"))\n",
    "b = float(input(\"Enter the width of the rectangular parallelepiped: \"))\n",
    "c = float(input(\"Enter the height of the rectangular parallelepiped: \"))\n",
    "\n",
    "volume = a * b * c\n",
    "surface_area = 2 * (a * b + b * c + a * c)\n",
    "\n",
    "print(\"Volume of the rectangular parallelepiped:\", volume)\n",
    "print(\"Surface area of the rectangular parallelepiped:\", surface_area)"
   ]
  },
  {
   "cell_type": "code",
   "execution_count": 6,
   "metadata": {},
   "outputs": [
    {
     "name": "stdout",
     "output_type": "stream",
     "text": [
      "Circumference of the circle: 18.84\n",
      "Area of the circle: 28.26\n"
     ]
    }
   ],
   "source": [
    "#Task no 6\n",
    "R = float(input(\"Enter the radius of the circle: \"))\n",
    "\n",
    "circumference = 2 * 3.14 * R\n",
    "area = 3.14 * R ** 2\n",
    "\n",
    "print(\"Circumference of the circle:\", circumference)\n",
    "print(\"Area of the circle:\", area)"
   ]
  },
  {
   "cell_type": "code",
   "execution_count": 7,
   "metadata": {},
   "outputs": [
    {
     "name": "stdout",
     "output_type": "stream",
     "text": [
      "Arithmetic mean of the two numbers: 4.5\n"
     ]
    }
   ],
   "source": [
    "#Task No 7\n",
    "a = float(input(\"Enter the first number: \"))\n",
    "b = float(input(\"Enter the second number: \"))\n",
    "\n",
    "mean = (a + b) / 2\n",
    "\n",
    "print(\"Arithmetic mean of the two numbers:\", mean)"
   ]
  },
  {
   "cell_type": "code",
   "execution_count": 8,
   "metadata": {},
   "outputs": [
    {
     "name": "stdout",
     "output_type": "stream",
     "text": [
      "Geometric mean of the two numbers: 3.872983346207417\n"
     ]
    }
   ],
   "source": [
    "#Task No 8\n",
    "import math\n",
    "a = float(input(\"Enter the first non-negative number: \"))\n",
    "b = float(input(\"Enter the second non-negative number: \"))\n",
    "\n",
    "geometric_mean = math.sqrt(a * b)\n",
    "\n",
    "print(\"Geometric mean of the two numbers:\", geometric_mean)"
   ]
  },
  {
   "cell_type": "code",
   "execution_count": 9,
   "metadata": {},
   "outputs": [
    {
     "name": "stdout",
     "output_type": "stream",
     "text": [
      "Sum of squares: 13.0\n",
      "Difference of squares: -5.0\n",
      "Product of squares: 36.0\n",
      "Quotient of squares: 0.4444444444444444\n"
     ]
    }
   ],
   "source": [
    "#Task No 9\n",
    "a = float(input(\"Enter the first non-zero number: \"))\n",
    "b = float(input(\"Enter the second non-zero number: \"))\n",
    "\n",
    "sum_of_squares = a ** 2 + b ** 2\n",
    "difference_of_squares = a ** 2 - b ** 2\n",
    "product_of_squares = (a ** 2) * (b ** 2)\n",
    "quotient_of_squares = (a ** 2) / (b ** 2)\n",
    "\n",
    "print(\"Sum of squares:\", sum_of_squares)\n",
    "print(\"Difference of squares:\", difference_of_squares)\n",
    "print(\"Product of squares:\", product_of_squares)\n",
    "print(\"Quotient of squares:\", quotient_of_squares)"
   ]
  },
  {
   "cell_type": "code",
   "execution_count": 10,
   "metadata": {},
   "outputs": [
    {
     "name": "stdout",
     "output_type": "stream",
     "text": [
      "Area of the square: 4.0\n"
     ]
    }
   ],
   "source": [
    "#Task No 10\n",
    "a = float(input(\"Enter the side length of the square: \"))\n",
    "area = a ** 2\n",
    "\n",
    "print(\"Area of the square:\", area)"
   ]
  }
 ],
 "metadata": {
  "kernelspec": {
   "display_name": "Python 3",
   "language": "python",
   "name": "python3"
  },
  "language_info": {
   "codemirror_mode": {
    "name": "ipython",
    "version": 3
   },
   "file_extension": ".py",
   "mimetype": "text/x-python",
   "name": "python",
   "nbconvert_exporter": "python",
   "pygments_lexer": "ipython3",
   "version": "3.12.0"
  }
 },
 "nbformat": 4,
 "nbformat_minor": 2
}
