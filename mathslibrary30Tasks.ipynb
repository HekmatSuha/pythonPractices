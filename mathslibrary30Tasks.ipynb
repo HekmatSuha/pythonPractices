{
 "cells": [
  {
   "cell_type": "code",
   "execution_count": 1,
   "metadata": {},
   "outputs": [
    {
     "name": "stdout",
     "output_type": "stream",
     "text": [
      "The value of R is: 736.9\n"
     ]
    }
   ],
   "source": [
    "#Task no 1\n",
    "import math\n",
    "\n",
    "t = float(input(\"Enter the value of t: \"))\n",
    "l = float(input(\"Enter the value of l: \"))\n",
    "\n",
    "R = 3 * t**2 + 3 * l**5 + 4.9\n",
    "print(\"The value of R is:\", R)"
   ]
  },
  {
   "cell_type": "code",
   "execution_count": 2,
   "metadata": {},
   "outputs": [
    {
     "name": "stdout",
     "output_type": "stream",
     "text": [
      "The value of K is: 162765.37415763183\n"
     ]
    }
   ],
   "source": [
    "#Task no 2\n",
    "import math\n",
    "\n",
    "p = float(input(\"Enter the value of p: \"))\n",
    "y = float(input(\"Enter the value of y: \"))\n",
    "e = float(input(\"Enter the value of e: \"))\n",
    "\n",
    "K=math.log(p**2 + y**3) + math.exp(p)\n",
    "\n",
    "print(\"The value of K is:\", K)\n"
   ]
  },
  {
   "cell_type": "code",
   "execution_count": 3,
   "metadata": {},
   "outputs": [
    {
     "name": "stdout",
     "output_type": "stream",
     "text": [
      "The value of G is: 6227020803.162277\n"
     ]
    }
   ],
   "source": [
    "#Task no 3\n",
    "import math\n",
    "\n",
    "y = float(input(\"Enter the value of y: \"))\n",
    "n = float(input(\"Enter the value of n: \"))\n",
    "G = n(int(y + 3)) + math.sqrt(y)\n",
    "\n",
    "print(\"The value of G is:\", G)"
   ]
  },
  {
   "cell_type": "code",
   "execution_count": 6,
   "metadata": {},
   "outputs": [
    {
     "name": "stdout",
     "output_type": "stream",
     "text": [
      "The value of D is: 36.683198637058915\n"
     ]
    }
   ],
   "source": [
    "#Task no 4\n",
    "import math\n",
    "\n",
    "a = float(input(\"Enter the value of a: \"))\n",
    "t = float(input(\"Enter the value of t: \"))\n",
    "\n",
    "D = 9.8 * a**2 + 5.52 *math.cos(t**5)\n",
    "\n",
    "print(\"The value of D is:\", D)"
   ]
  },
  {
   "cell_type": "code",
   "execution_count": 7,
   "metadata": {},
   "outputs": [
    {
     "name": "stdout",
     "output_type": "stream",
     "text": [
      "The value of L is: 2.815856481860891\n"
     ]
    }
   ],
   "source": [
    "#Task no 5\n",
    "import math \n",
    "\n",
    "x = float(input(\"Enter the value of x: \"))\n",
    "\n",
    "L = 1.51 * math.cos(x**2) + 2 * x**3\n",
    "print(\"The value of L is:\", L)"
   ]
  },
  {
   "cell_type": "code",
   "execution_count": 8,
   "metadata": {},
   "outputs": [
    {
     "name": "stdout",
     "output_type": "stream",
     "text": [
      "The value of M is: 72.73211193081261\n"
     ]
    }
   ],
   "source": [
    "#Task no 6\n",
    "import math\n",
    "\n",
    "y = float(input(\"Enter the value of y: \"))\n",
    "x = float(input(\"Enter the value of x: \"))\n",
    "\n",
    "M = math.cos(2 * y) + 3.6 * math.exp(x)\n",
    "print(\"The value of M is:\", M)\n"
   ]
  },
  {
   "cell_type": "code",
   "execution_count": 9,
   "metadata": {},
   "outputs": [
    {
     "name": "stdout",
     "output_type": "stream",
     "text": [
      "The value of N is: 17.95\n"
     ]
    }
   ],
   "source": [
    "#Task no 7\n",
    "m = float(input(\"Enter the value of m: \"))\n",
    "\n",
    "N = m**2 + 2.8 * abs(m) + 0.55\n",
    "print(\"The value of N is:\", N)"
   ]
  },
  {
   "cell_type": "code",
   "execution_count": 10,
   "metadata": {},
   "outputs": [
    {
     "name": "stdout",
     "output_type": "stream",
     "text": [
      "The value of T is: 7.5960516059331775\n"
     ]
    }
   ],
   "source": [
    "#Task no 8\n",
    "import math\n",
    "\n",
    "y = float(input(\"Enter the value of y: \"))\n",
    "\n",
    "T = math.sqrt(abs(6 * y**2 - 0.1 * y + 4))\n",
    "print(\"The value of T is:\", T)"
   ]
  },
  {
   "cell_type": "code",
   "execution_count": 11,
   "metadata": {},
   "outputs": [
    {
     "name": "stdout",
     "output_type": "stream",
     "text": [
      "The value of V is: 0.45191717607727455\n"
     ]
    }
   ],
   "source": [
    "#Task no 9\n",
    "import math\n",
    "\n",
    "y = float(input(\"Enter the value of y: \"))\n",
    "x = float(input(\"Enter the value of x: \"))\n",
    "\n",
    "V = math.log(y + 0.95) + math.sin(x**4)\n",
    "print(\"The value of V is:\", V)"
   ]
  },
  {
   "cell_type": "code",
   "execution_count": 12,
   "metadata": {},
   "outputs": [
    {
     "name": "stdout",
     "output_type": "stream",
     "text": [
      "The value of U is: 74.15680611583497\n"
     ]
    }
   ],
   "source": [
    "#Task no 10\n",
    "y = float(input(\"Enter the value of y: \"))\n",
    "k = float(input(\"Enter the value of k: \"))\n",
    "x = float(input(\"Enter the value of x: \"))\n",
    "\n",
    "U = math.exp(y) + 7.355 * k**2 + math.sin(x)**2\n",
    "print(\"The value of U is:\", U)"
   ]
  },
  {
   "cell_type": "code",
   "execution_count": 13,
   "metadata": {},
   "outputs": [
    {
     "name": "stdout",
     "output_type": "stream",
     "text": [
      "The value of S is: 18.514174198480056\n"
     ]
    }
   ],
   "source": [
    "#Task no 11\n",
    "import math\n",
    "y = float(input(\"Enter the value of y: \"))\n",
    "x = float(input(\"Enter the value of x: \"))\n",
    "\n",
    "S = 9.756 * y + 7 * math.tan(x)\n",
    "print(\"The value of S is:\", S)"
   ]
  },
  {
   "cell_type": "code",
   "execution_count": 16,
   "metadata": {},
   "outputs": [
    {
     "name": "stdout",
     "output_type": "stream",
     "text": [
      "The value of K is: 19.168074739870143\n"
     ]
    }
   ],
   "source": [
    "#Task no 12\n",
    "import math\n",
    "t = float(input(\"Enter the value of t: \"))\n",
    "x = float(input(\"Enter the value of x: \"))\n",
    "\n",
    "K = 7*t**2 + 3 * math.sin(x**3)+9.2\n",
    "print(\"The value of K is:\", K)"
   ]
  },
  {
   "cell_type": "code",
   "execution_count": 17,
   "metadata": {},
   "outputs": [
    {
     "name": "stdout",
     "output_type": "stream",
     "text": [
      "The value of E is: 7.3484692283495345\n"
     ]
    }
   ],
   "source": [
    "#Task no 13\n",
    "import math\n",
    "\n",
    "y = float(input(\"Enter the value of y: \"))\n",
    "\n",
    "E = math.sqrt(abs(3 * y**2 + 0.5 * y + 4))\n",
    "print(\"The value of E is:\", E)"
   ]
  },
  {
   "cell_type": "code",
   "execution_count": 18,
   "metadata": {},
   "outputs": [
    {
     "name": "stdout",
     "output_type": "stream",
     "text": [
      "The value of R is: 22.55093699309358\n"
     ]
    }
   ],
   "source": [
    "#Task no 14\n",
    "\n",
    "import math\n",
    "\n",
    "y = float(input(\"Enter the value of y: \"))\n",
    "x = float(input(\"Enter the value of x: \"))\n",
    "\n",
    "R = abs(math.sqrt(math.sin(y**2) + 6.835)) + math.exp(x)\n",
    "print(\"The value of R is:\", R)"
   ]
  },
  {
   "cell_type": "code",
   "execution_count": 19,
   "metadata": {},
   "outputs": [
    {
     "name": "stdout",
     "output_type": "stream",
     "text": [
      "The value of H is: -4.942588932934833\n"
     ]
    }
   ],
   "source": [
    "#Task no 15\n",
    "import math\n",
    "\n",
    "y = float(input(\"Enter the value of y: \"))\n",
    "\n",
    "H = math.sin(y**2) - 2.8 * y + math.sqrt(abs(y))\n",
    "print(\"The value of H is:\", H)"
   ]
  },
  {
   "cell_type": "code",
   "execution_count": 1,
   "metadata": {},
   "outputs": [
    {
     "name": "stdout",
     "output_type": "stream",
     "text": [
      "The value of S is: 84.56282892802471\n"
     ]
    }
   ],
   "source": [
    "#Task no 16\n",
    "import math\n",
    "\n",
    "y = float(input(\"Enter the value of y: \"))\n",
    "\n",
    "S = math.sqrt(math.cos(4 * y**2) + 7151)\n",
    "print(\"The value of S is:\", S)"
   ]
  },
  {
   "cell_type": "code",
   "execution_count": 2,
   "metadata": {},
   "outputs": [
    {
     "name": "stdout",
     "output_type": "stream",
     "text": [
      "The value of N is: 77.44948974278317\n"
     ]
    }
   ],
   "source": [
    "#Task no 17\n",
    "import math\n",
    "\n",
    "y = float(input(\"Enter the value of y: \"))\n",
    "\n",
    "N = 3 * y**2 + math.sqrt(y + 1)\n",
    "print(\"The value of N is:\", N)"
   ]
  },
  {
   "cell_type": "code",
   "execution_count": 3,
   "metadata": {},
   "outputs": [
    {
     "name": "stdout",
     "output_type": "stream",
     "text": [
      "The value of Z is: 15.0\n"
     ]
    }
   ],
   "source": [
    "#Task no 18\n",
    "import math\n",
    "\n",
    "y = float(input(\"Enter the value of y: \"))\n",
    "\n",
    "Z = 3 * y**2 + math.sqrt(y**3 + 1)\n",
    "print(\"The value of Z is:\", Z)"
   ]
  },
  {
   "cell_type": "code",
   "execution_count": 4,
   "metadata": {},
   "outputs": [
    {
     "name": "stdout",
     "output_type": "stream",
     "text": [
      "The value of P is: 3.357082066318904\n"
     ]
    }
   ],
   "source": [
    "#Task no 19\n",
    "import math\n",
    "\n",
    "n = float(input(\"Enter the value of n: \"))\n",
    "y = float(input(\"Enter the value of y: \"))\n",
    "g = float(input(\"Enter the value of g: \"))\n",
    "\n",
    "P = n * math.sqrt(y**3 + 1.09*g)\n",
    "print(\"The value of P is:\", P)"
   ]
  },
  {
   "cell_type": "code",
   "execution_count": 5,
   "metadata": {},
   "outputs": [
    {
     "name": "stdout",
     "output_type": "stream",
     "text": [
      "The value of U is: 150.0505656628796\n"
     ]
    }
   ],
   "source": [
    "#Task no 20\n",
    "import math\n",
    "\n",
    "y = float(input(\"Enter the value of y: \"))\n",
    "k = float(input(\"Enter the value of k: \"))\n",
    "x = float(input(\"Enter the value of x: \"))\n",
    "\n",
    "U = math.exp(k + y) + math.tan(x) * math.sqrt(y)\n",
    "print(\"The value of U is:\", U)"
   ]
  },
  {
   "cell_type": "code",
   "execution_count": 6,
   "metadata": {},
   "outputs": [
    {
     "name": "stdout",
     "output_type": "stream",
     "text": [
      "The value of P is: 737.9416330443618\n"
     ]
    }
   ],
   "source": [
    "#Task no 21\n",
    "import math\n",
    "\n",
    "y = float(input(\"Enter the value of y: \"))\n",
    "h = float(input(\"Enter the value of h: \"))\n",
    "\n",
    "P = math.exp(y + 5.5) + 9.1 * h**3\n",
    "print(\"The value of P is:\", P)"
   ]
  },
  {
   "cell_type": "code",
   "execution_count": 7,
   "metadata": {},
   "outputs": [
    {
     "name": "stdout",
     "output_type": "stream",
     "text": [
      "The value of T is: 2.696981128783319\n"
     ]
    }
   ],
   "source": [
    "#Task no 22\n",
    "import math\n",
    "\n",
    "u = float(input(\"Enter the value of u: \"))\n",
    "x = float(input(\"Enter the value of x: \"))\n",
    "y = float(input(\"Enter the value of y: \"))\n",
    "\n",
    "T = math.sin(2 * u) * math.log(2 * y**2 + math.sqrt(x))\n",
    "print(\"The value of T is:\", T)"
   ]
  },
  {
   "cell_type": "code",
   "execution_count": 8,
   "metadata": {},
   "outputs": [
    {
     "name": "stdout",
     "output_type": "stream",
     "text": [
      "The value of G is: 8.298353525756331\n"
     ]
    }
   ],
   "source": [
    "#Task no 23\n",
    "import math\n",
    "\n",
    "y = float(input(\"Enter the value of y: \"))\n",
    "f = float(input(\"Enter the value of f: \"))\n",
    "\n",
    "G = math.exp(2 * y) + math.sin(f)\n",
    "print(\"The value of G is:\", G)"
   ]
  },
  {
   "cell_type": "code",
   "execution_count": 9,
   "metadata": {},
   "outputs": [
    {
     "name": "stdout",
     "output_type": "stream",
     "text": [
      "The value of F is: 1.8740411809493869\n"
     ]
    }
   ],
   "source": [
    "#Task no 24\n",
    "import math\n",
    "\n",
    "y = float(input(\"Enter the value of y: \"))\n",
    "\n",
    "F = 2 * math.sin(0.214 * y**5 + 1)\n",
    "print(\"The value of F is:\", F)"
   ]
  },
  {
   "cell_type": "code",
   "execution_count": 10,
   "metadata": {},
   "outputs": [
    {
     "name": "stdout",
     "output_type": "stream",
     "text": [
      "The value of G is: 6.632253603622722\n"
     ]
    }
   ],
   "source": [
    "#Task no 25\n",
    "import math\n",
    "\n",
    "y = float(input(\"Enter the value of y: \"))\n",
    "f = float(input(\"Enter the value of f: \"))\n",
    "\n",
    "G = math.exp(2 * y) + math.sin(f**2)\n",
    "print(\"The value of G is:\", G)"
   ]
  },
  {
   "cell_type": "code",
   "execution_count": 11,
   "metadata": {},
   "outputs": [
    {
     "name": "stdout",
     "output_type": "stream",
     "text": [
      "The value of Z is: -0.3532084130348369\n"
     ]
    }
   ],
   "source": [
    "#Task no 26\n",
    "import math\n",
    "\n",
    "p = float(input(\"Enter the value of p: \"))\n",
    "\n",
    "Z = math.sin((p**2 + 0.4)**3)\n",
    "print(\"The value of Z is:\", Z)"
   ]
  },
  {
   "cell_type": "code",
   "execution_count": 15,
   "metadata": {},
   "outputs": [
    {
     "name": "stdout",
     "output_type": "stream",
     "text": [
      "The value of w is: 55.48560349006996\n"
     ]
    }
   ],
   "source": [
    "#Task no 27\n",
    "import math\n",
    "\n",
    "v = float(input(\"Enter the value of v: \"))\n",
    "y = float(input(\"Enter the value of y: \"))\n",
    "x = float(input(\"Enter the value of x: \"))\n",
    "\n",
    "W = 1.03 * v + math.exp(2*y) + math.tan(abs(x))\n",
    "print(\"The value of w is:\", W)"
   ]
  },
  {
   "cell_type": "code",
   "execution_count": 17,
   "metadata": {},
   "outputs": [
    {
     "name": "stdout",
     "output_type": "stream",
     "text": [
      "The value of T is: 21.499750485560764\n"
     ]
    }
   ],
   "source": [
    "#Task no 28\n",
    "\n",
    "import math\n",
    "\n",
    "y = float(input(\"Enter the value of y: \"))\n",
    "h = float(input(\"Enter the value of h: \"))\n",
    "\n",
    "T = math.exp(y+h)  + math.sqrt(abs(6.4*y))\n",
    "print(\"The value of T is:\", T)"
   ]
  },
  {
   "cell_type": "code",
   "execution_count": 18,
   "metadata": {},
   "outputs": [
    {
     "name": "stdout",
     "output_type": "stream",
     "text": [
      "The value of N is: 4.414213562373095\n"
     ]
    }
   ],
   "source": [
    "#Task no 29\n",
    "import math\n",
    "\n",
    "y = float(input(\"Enter the value of y: \"))\n",
    "\n",
    "N = 3 * y**2 + math.sqrt(abs(y+1))\n",
    "print(\"The value of N is:\", N)"
   ]
  },
  {
   "cell_type": "code",
   "execution_count": 19,
   "metadata": {},
   "outputs": [
    {
     "name": "stdout",
     "output_type": "stream",
     "text": [
      "The value of W is: 26.632478396332576\n"
     ]
    }
   ],
   "source": [
    "#Task no 30\n",
    "import math\n",
    "\n",
    "r = float(input(\"Enter the value of r: \"))\n",
    "\n",
    "W = math.exp(y+r) + 7.2 * math.sin(r)\n",
    "print(\"The value of W is:\", W)"
   ]
  }
 ],
 "metadata": {
  "kernelspec": {
   "display_name": "Python 3",
   "language": "python",
   "name": "python3"
  },
  "language_info": {
   "codemirror_mode": {
    "name": "ipython",
    "version": 3
   },
   "file_extension": ".py",
   "mimetype": "text/x-python",
   "name": "python",
   "nbconvert_exporter": "python",
   "pygments_lexer": "ipython3",
   "version": "3.12.0"
  }
 },
 "nbformat": 4,
 "nbformat_minor": 2
}
