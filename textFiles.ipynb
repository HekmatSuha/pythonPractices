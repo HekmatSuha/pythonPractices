{
 "cells": [
  {
   "cell_type": "code",
   "execution_count": 8,
   "metadata": {},
   "outputs": [
    {
     "name": "stdout",
     "output_type": "stream",
     "text": [
      "Overwriting myfile.text\n"
     ]
    }
   ],
   "source": [
    "%%writefile myfile.text\n",
    "Hello This is a text file\n",
    "this is the second line\n",
    "this is the third line\n",
    "\n",
    "# Writing myfile.txt\n",
    "\n",
    "# myfile = open('myfile.text')\n",
    "\n",
    "myfile.read()\n",
    "# myfile.seek(0)\n",
    "# myfile.read()"
   ]
  },
  {
   "cell_type": "code",
   "execution_count": 3,
   "metadata": {},
   "outputs": [
    {
     "data": {
      "text/plain": [
       "'e:\\\\AUES\\\\Third Term\\\\Phyton\\\\Codes\\\\practice_codes'"
      ]
     },
     "execution_count": 3,
     "metadata": {},
     "output_type": "execute_result"
    }
   ],
   "source": [
    "pwd"
   ]
  },
  {
   "cell_type": "code",
   "execution_count": 10,
   "metadata": {},
   "outputs": [],
   "source": [
    "with open('myfile.text') as my_new_file:\n",
    "    contents = my_new_file.read()"
   ]
  }
 ],
 "metadata": {
  "kernelspec": {
   "display_name": "Python 3",
   "language": "python",
   "name": "python3"
  },
  "language_info": {
   "codemirror_mode": {
    "name": "ipython",
    "version": 3
   },
   "file_extension": ".py",
   "mimetype": "text/x-python",
   "name": "python",
   "nbconvert_exporter": "python",
   "pygments_lexer": "ipython3",
   "version": "3.12.0"
  }
 },
 "nbformat": 4,
 "nbformat_minor": 2
}
